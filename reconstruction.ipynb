{
 "cells": [
  {
   "cell_type": "code",
   "execution_count": 2,
   "id": "23e49f8c-b335-42b8-bef4-31b5483fe0dc",
   "metadata": {},
   "outputs": [
    {
     "name": "stderr",
     "output_type": "stream",
     "text": [
      "WARNING:absl:Tensorflow library not found, tensorflow.io.gfile operations will use native shim calls. GCS paths (i.e. 'gs://...') cannot be accessed.\n",
      "WARNING:absl:GlobalAsyncCheckpointManager is not imported correctly. Checkpointing of GlobalDeviceArrays will not be available.To use the feature, install tensorstore.\n"
     ]
    }
   ],
   "source": [
    "from data import get_hf_image_dataset, image_transform\n",
    "from model import UIL"
   ]
  },
  {
   "cell_type": "code",
   "execution_count": 3,
   "id": "688be000-0457-4db5-a316-a6b60362b60b",
   "metadata": {},
   "outputs": [],
   "source": [
    "model_config = dict(\n",
    "        image_size=224,\n",
    "        patch_size=16,\n",
    "        width=768,\n",
    "        layers=12,\n",
    "        heads=12,\n",
    "        noise_std=0.8,\n",
    "        mask_ratio=0.75,\n",
    "        decoder_layers=8,\n",
    "        decoder_width=512,\n",
    "        decoder_heads=16,\n",
    "        dropout_rate=0,\n",
    "        attn_dropout_rate=0,\n",
    "        do_denoise=True,\n",
    "        do_mae=True,\n",
    "        do_causal=True,\n",
    "    )\n",
    "\n",
    "model = UIL(**model_config, deterministic=True)"
   ]
  },
  {
   "cell_type": "code",
   "execution_count": null,
   "id": "602b6b2e-0689-4fda-9915-eb6039a8d65b",
   "metadata": {},
   "outputs": [],
   "source": []
  }
 ],
 "metadata": {
  "kernelspec": {
   "display_name": "Python 3 (ipykernel)",
   "language": "python",
   "name": "python3"
  },
  "language_info": {
   "codemirror_mode": {
    "name": "ipython",
    "version": 3
   },
   "file_extension": ".py",
   "mimetype": "text/x-python",
   "name": "python",
   "nbconvert_exporter": "python",
   "pygments_lexer": "ipython3",
   "version": "3.8.16"
  }
 },
 "nbformat": 4,
 "nbformat_minor": 5
}
